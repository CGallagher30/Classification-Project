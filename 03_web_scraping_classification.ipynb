{
 "cells": [
  {
   "cell_type": "code",
   "execution_count": 1,
   "id": "c7f64074",
   "metadata": {},
   "outputs": [],
   "source": [
    "# Getting info scraped from one single boxscore link"
   ]
  },
  {
   "cell_type": "code",
   "execution_count": 2,
   "id": "81e61f24",
   "metadata": {},
   "outputs": [],
   "source": [
    "# Import Packages\n",
    "import time, random\n",
    "import requests\n",
    "from bs4 import BeautifulSoup as bs\n",
    "import re\n",
    "import pandas as pd"
   ]
  },
  {
   "cell_type": "code",
   "execution_count": 3,
   "id": "250b0381",
   "metadata": {},
   "outputs": [],
   "source": [
    "# Base link\n",
    "\n",
    "url='https://www.baseball-reference.com/boxes/TOR/TOR202209120.shtml'\n",
    "\n",
    "# Will end up looping through every boxscore link"
   ]
  },
  {
   "cell_type": "code",
   "execution_count": 4,
   "id": "cbe7f951",
   "metadata": {},
   "outputs": [
    {
     "name": "stdout",
     "output_type": "stream",
     "text": [
      "200\n"
     ]
    }
   ],
   "source": [
    "# Scraping single base link\n",
    "time.sleep(1+2*random.random())\n",
    "response=requests.get(url)\n",
    "time.sleep(1+2*random.random())\n",
    "print(response.status_code)\n",
    "html=response.text\n",
    "soup=bs(html)"
   ]
  },
  {
   "cell_type": "code",
   "execution_count": 5,
   "id": "e2631e04",
   "metadata": {},
   "outputs": [],
   "source": [
    "# Grab the entire scorebox\n",
    "scorebox=soup.find('table',{'class':'linescore nohover stats_table no_freeze'}).find_all('tr')"
   ]
  },
  {
   "cell_type": "code",
   "execution_count": 6,
   "id": "e7e54053",
   "metadata": {},
   "outputs": [],
   "source": [
    "# Separate the three rows of interest\n",
    "scorebox_row1=scorebox[0].find_all('th')\n",
    "scorebox_row2=scorebox[1].find_all('td')\n",
    "scorebox_row3=scorebox[2].find_all('td')"
   ]
  },
  {
   "cell_type": "code",
   "execution_count": 7,
   "id": "15e779f6",
   "metadata": {},
   "outputs": [],
   "source": [
    "# Create dataframe that will be the scorebox\n",
    "\n",
    "# set first column name to Team\n",
    "scorebox_column_names=['Team']\n",
    "\n",
    "# Grab column names and add to the list\n",
    "for tag in scorebox_row1[2:]:\n",
    "    scorebox_column_names.append(tag.text)\n",
    "\n"
   ]
  },
  {
   "cell_type": "code",
   "execution_count": 8,
   "id": "3914ff25",
   "metadata": {},
   "outputs": [],
   "source": [
    "# Grab values of row 2\n",
    "row2_values=[]\n",
    "for tag in scorebox_row2[1:]:\n",
    "    row2_values.append(tag.text)"
   ]
  },
  {
   "cell_type": "code",
   "execution_count": 9,
   "id": "df0ada3b",
   "metadata": {},
   "outputs": [],
   "source": [
    "# Grab values of row 3\n",
    "row3_values=[]\n",
    "for tag in scorebox_row3[1:]:\n",
    "    row3_values.append(tag.text)"
   ]
  },
  {
   "cell_type": "code",
   "execution_count": 10,
   "id": "82d2e8c4",
   "metadata": {},
   "outputs": [],
   "source": [
    "# Make rows as dictionaries\n",
    "row1=dict(list(zip(scorebox_column_names,row2_values)))\n",
    "row2=dict(list(zip(scorebox_column_names,row3_values)))\n",
    "\n",
    "# Save as list of dictionaries\n",
    "rows=[row1,row2]"
   ]
  },
  {
   "cell_type": "code",
   "execution_count": 11,
   "id": "f1d40c43",
   "metadata": {},
   "outputs": [],
   "source": [
    "# Create the scorebox dataframe using the row dictionaries list\n",
    "scorebox_df=pd.DataFrame(rows)"
   ]
  },
  {
   "cell_type": "code",
   "execution_count": 12,
   "id": "9a34d652",
   "metadata": {},
   "outputs": [],
   "source": [
    "# Defining team1 and team2\n",
    "team1=scorebox_df['Team'][0]\n",
    "team2=scorebox_df['Team'][1]"
   ]
  },
  {
   "cell_type": "code",
   "execution_count": 13,
   "id": "cc2f4602",
   "metadata": {},
   "outputs": [],
   "source": [
    "# Now create team batting dataframes\n",
    "table_test=soup.find_all('table',{'class':'sortable stats_table min_width shade_zero now_sortable'})"
   ]
  },
  {
   "cell_type": "code",
   "execution_count": 14,
   "id": "6906896d",
   "metadata": {},
   "outputs": [
    {
     "data": {
      "text/plain": [
       "[]"
      ]
     },
     "execution_count": 14,
     "metadata": {},
     "output_type": "execute_result"
    }
   ],
   "source": [
    "# might have to use selenium to get the rest idk yet\n",
    "table_test"
   ]
  },
  {
   "cell_type": "code",
   "execution_count": 24,
   "id": "4ecef75b",
   "metadata": {},
   "outputs": [
    {
     "name": "stderr",
     "output_type": "stream",
     "text": [
      "/var/folders/tj/465rg90j3m59mm_rhyq5qcx40000gn/T/ipykernel_15784/2397402534.py:6: DeprecationWarning: executable_path has been deprecated, please pass in a Service object\n",
      "  driver=webdriver.Chrome(chromedriver)\n"
     ]
    }
   ],
   "source": [
    "# Trying selenium\n",
    "import os\n",
    "from selenium import webdriver\n",
    "chromedriver=\"/Applications/chromedriver\"\n",
    "os.environ[\"webdriver.chrome.driver\"]=chromedriver\n",
    "driver=webdriver.Chrome(chromedriver)"
   ]
  },
  {
   "cell_type": "code",
   "execution_count": 16,
   "id": "0c956716",
   "metadata": {},
   "outputs": [],
   "source": [
    "driver.get(url)"
   ]
  },
  {
   "cell_type": "code",
   "execution_count": 17,
   "id": "06d3758e",
   "metadata": {},
   "outputs": [],
   "source": [
    "soup=bs(driver.page_source)"
   ]
  },
  {
   "cell_type": "code",
   "execution_count": 18,
   "id": "b87ec5f6",
   "metadata": {},
   "outputs": [],
   "source": [
    "table_test=soup.find_all('table',{'class':'sortable stats_table min_width shade_zero now_sortable'})"
   ]
  },
  {
   "cell_type": "code",
   "execution_count": 19,
   "id": "31ded725",
   "metadata": {},
   "outputs": [],
   "source": [
    "# Selenium seems to work to grab the other tables, will make new notebook that builds the scorebox dataframe\n",
    "# starting with selenium"
   ]
  },
  {
   "cell_type": "code",
   "execution_count": null,
   "id": "8ec64229",
   "metadata": {},
   "outputs": [],
   "source": []
  },
  {
   "cell_type": "code",
   "execution_count": null,
   "id": "af6ae276",
   "metadata": {},
   "outputs": [],
   "source": []
  },
  {
   "cell_type": "code",
   "execution_count": null,
   "id": "eae5c3d2",
   "metadata": {},
   "outputs": [],
   "source": []
  },
  {
   "cell_type": "code",
   "execution_count": null,
   "id": "3633d5e2",
   "metadata": {},
   "outputs": [],
   "source": []
  }
 ],
 "metadata": {
  "kernelspec": {
   "display_name": "Python 3 (classification)",
   "language": "python",
   "name": "classification"
  },
  "language_info": {
   "codemirror_mode": {
    "name": "ipython",
    "version": 3
   },
   "file_extension": ".py",
   "mimetype": "text/x-python",
   "name": "python",
   "nbconvert_exporter": "python",
   "pygments_lexer": "ipython3",
   "version": "3.9.12"
  }
 },
 "nbformat": 4,
 "nbformat_minor": 5
}
