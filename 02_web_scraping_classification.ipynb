{
 "cells": [
  {
   "cell_type": "code",
   "execution_count": 1,
   "id": "08c0263c",
   "metadata": {},
   "outputs": [],
   "source": [
    "# Web Scraping Generating Links to be scraped"
   ]
  },
  {
   "cell_type": "code",
   "execution_count": 2,
   "id": "9a545343",
   "metadata": {},
   "outputs": [],
   "source": [
    "# Import Packages\n",
    "import time, random\n",
    "import requests\n",
    "from bs4 import BeautifulSoup as bs"
   ]
  },
  {
   "cell_type": "code",
   "execution_count": 3,
   "id": "0c179a10",
   "metadata": {},
   "outputs": [],
   "source": [
    "# List of years of interest\n",
    "#years=list(range(2018,2023))\n",
    "years=[2022]"
   ]
  },
  {
   "cell_type": "code",
   "execution_count": 4,
   "id": "b0e99f78",
   "metadata": {},
   "outputs": [],
   "source": [
    "# Create list of links for each season\n",
    "season_links=[]\n",
    "for year in years:\n",
    "    year=str(year)\n",
    "    link='https://www.baseball-reference.com/leagues/majors/%s-schedule.shtml' % year\n",
    "    season_links.append(link)"
   ]
  },
  {
   "cell_type": "code",
   "execution_count": 5,
   "id": "106cf5a8",
   "metadata": {},
   "outputs": [
    {
     "name": "stdout",
     "output_type": "stream",
     "text": [
      "200\n"
     ]
    }
   ],
   "source": [
    "# Create list of boxscore links\n",
    "boxscore_links=[]\n",
    "for url in season_links:\n",
    "    time.sleep(1+2*random.random())\n",
    "    response=requests.get(url,headers={'User-Agent': 'Mozilla/5.0 (Windows NT 10.0; Win64; x64; rv:82.0) Gecko/20100101 Firefox/82.0'})\n",
    "    time.sleep(1+2*random.random())\n",
    "    print(response.status_code)\n",
    "    html=response.text\n",
    "    soup=bs(html)\n",
    "    game_tags=soup.find_all('p',{'class':'game'})\n",
    "    for tag in game_tags:\n",
    "        try:\n",
    "            url_end=tag.find('a',text='Boxscore')['href']\n",
    "            link='https://www.baseball-reference.com'+url_end\n",
    "            boxscore_links.append(link)\n",
    "        except TypeError:\n",
    "            pass"
   ]
  },
  {
   "cell_type": "code",
   "execution_count": 6,
   "id": "1b4de372",
   "metadata": {},
   "outputs": [
    {
     "name": "stdout",
     "output_type": "stream",
     "text": [
      "Done\n"
     ]
    }
   ],
   "source": [
    "# Save list of links to a txt file to be used later\n",
    "with open(r'boxscore_links.txt', 'w') as fp:\n",
    "    for link in boxscore_links:\n",
    "        # write each item on a new line\n",
    "        fp.write(\"%s\\n\" % link)\n",
    "    print('Done')"
   ]
  },
  {
   "cell_type": "code",
   "execution_count": null,
   "id": "38dc6f60",
   "metadata": {},
   "outputs": [],
   "source": []
  },
  {
   "cell_type": "code",
   "execution_count": null,
   "id": "bc76cf33",
   "metadata": {},
   "outputs": [],
   "source": []
  },
  {
   "cell_type": "code",
   "execution_count": null,
   "id": "d0e3b9bc",
   "metadata": {},
   "outputs": [],
   "source": []
  }
 ],
 "metadata": {
  "kernelspec": {
   "display_name": "Python 3 (classification)",
   "language": "python",
   "name": "classification"
  },
  "language_info": {
   "codemirror_mode": {
    "name": "ipython",
    "version": 3
   },
   "file_extension": ".py",
   "mimetype": "text/x-python",
   "name": "python",
   "nbconvert_exporter": "python",
   "pygments_lexer": "ipython3",
   "version": "3.9.12"
  }
 },
 "nbformat": 4,
 "nbformat_minor": 5
}
