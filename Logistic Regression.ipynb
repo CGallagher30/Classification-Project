{
 "cells": [
  {
   "cell_type": "code",
   "execution_count": 26,
   "id": "a6dcb7d8",
   "metadata": {},
   "outputs": [],
   "source": [
    "# Logistic Regression\n",
    "import pandas as pd\n",
    "from sklearn.model_selection import train_test_split\n",
    "from sklearn.preprocessing import StandardScaler\n",
    "from sklearn.linear_model import LogisticRegression\n",
    "import numpy as np"
   ]
  },
  {
   "cell_type": "code",
   "execution_count": 3,
   "id": "493961a7",
   "metadata": {},
   "outputs": [],
   "source": [
    "pd.set_option('display.max_columns', None)"
   ]
  },
  {
   "cell_type": "code",
   "execution_count": 4,
   "id": "eab0104e",
   "metadata": {},
   "outputs": [],
   "source": [
    "# SQL setup\n",
    "from sqlalchemy import create_engine\n",
    "# connect to a local database\n",
    "engine = create_engine(\"sqlite:///boxscores.db\")"
   ]
  },
  {
   "cell_type": "code",
   "execution_count": 5,
   "id": "5046a0af",
   "metadata": {},
   "outputs": [],
   "source": [
    "# load in data\n",
    "df_2020=pd.read_sql('2020',engine)\n",
    "df_2021=pd.read_sql('2021',engine)\n",
    "df_2022=pd.read_sql('2022',engine)"
   ]
  },
  {
   "cell_type": "code",
   "execution_count": 145,
   "id": "ebba0aff",
   "metadata": {},
   "outputs": [],
   "source": [
    "# concatenate them together\n",
    "all_years=[df_2020,df_2021,df_2022]\n",
    "df=pd.concat(all_years)"
   ]
  },
  {
   "cell_type": "code",
   "execution_count": 7,
   "id": "ee8d73c9",
   "metadata": {},
   "outputs": [],
   "source": [
    "# model 1\n",
    "# select data to use\n",
    "X=df[['AB','R_b','H_b','BA_RISP','H_RISP','HR_b','RBI','BB_b','PA','BA','OBP','SLG','OPS','Pit_b','RE24_b','H_p','R_p','ER','BB_p','HR_p','ERA','BF','Pit_p','Str_p','Ctct','StL','FB','LD','GSc','IR','IS','RE24_p','E']]\n",
    "y=df['Won']"
   ]
  },
  {
   "cell_type": "code",
   "execution_count": 8,
   "id": "cff2163f",
   "metadata": {},
   "outputs": [],
   "source": [
    "# train test val split\n",
    "\n",
    "X_train, X_test, y_train, y_test = train_test_split(X, y, test_size=0.2, random_state=42)\n",
    "\n",
    "X_train, X_val, y_train, y_val = train_test_split(X_train, y_train, test_size=0.25, random_state=42)"
   ]
  },
  {
   "cell_type": "code",
   "execution_count": 9,
   "id": "d32591ce",
   "metadata": {},
   "outputs": [
    {
     "name": "stderr",
     "output_type": "stream",
     "text": [
      "/Users/colingallagher/opt/anaconda3/lib/python3.9/site-packages/sklearn/utils/validation.py:1688: FutureWarning: Feature names only support names that are all strings. Got feature names with dtypes: ['quoted_name']. An error will be raised in 1.2.\n",
      "  warnings.warn(\n",
      "/Users/colingallagher/opt/anaconda3/lib/python3.9/site-packages/sklearn/utils/validation.py:1688: FutureWarning: Feature names only support names that are all strings. Got feature names with dtypes: ['quoted_name']. An error will be raised in 1.2.\n",
      "  warnings.warn(\n",
      "/Users/colingallagher/opt/anaconda3/lib/python3.9/site-packages/sklearn/utils/validation.py:1688: FutureWarning: Feature names only support names that are all strings. Got feature names with dtypes: ['quoted_name']. An error will be raised in 1.2.\n",
      "  warnings.warn(\n",
      "/Users/colingallagher/opt/anaconda3/lib/python3.9/site-packages/sklearn/utils/validation.py:1688: FutureWarning: Feature names only support names that are all strings. Got feature names with dtypes: ['quoted_name']. An error will be raised in 1.2.\n",
      "  warnings.warn(\n"
     ]
    }
   ],
   "source": [
    "# Scaling data\n",
    "\n",
    "# creating object \n",
    "stand= StandardScaler()\n",
    "\n",
    "# fit data\n",
    "Fit= stand.fit(X_train)\n",
    "\n",
    "# transform data\n",
    "X_train_scaled = Fit.transform(X_train)\n",
    "X_test_scaled = Fit.transform(X_test)\n",
    "X_val_scaled = Fit.transform(X_val)"
   ]
  },
  {
   "cell_type": "code",
   "execution_count": 10,
   "id": "ef1606d4",
   "metadata": {},
   "outputs": [
    {
     "data": {
      "text/plain": [
       "LogisticRegression()"
      ]
     },
     "execution_count": 10,
     "metadata": {},
     "output_type": "execute_result"
    }
   ],
   "source": [
    "lm1 = LogisticRegression()\n",
    "lm1.fit(X_train_scaled, y_train)"
   ]
  },
  {
   "cell_type": "code",
   "execution_count": 11,
   "id": "3bda0900",
   "metadata": {},
   "outputs": [
    {
     "data": {
      "text/plain": [
       "1.0"
      ]
     },
     "execution_count": 11,
     "metadata": {},
     "output_type": "execute_result"
    }
   ],
   "source": [
    "lm1.score(X_test_scaled, y_test)"
   ]
  },
  {
   "cell_type": "code",
   "execution_count": 13,
   "id": "1ba83fd3",
   "metadata": {},
   "outputs": [
    {
     "data": {
      "text/plain": [
       "1.0"
      ]
     },
     "execution_count": 13,
     "metadata": {},
     "output_type": "execute_result"
    }
   ],
   "source": [
    "lm1.score(X_train_scaled, y_train)"
   ]
  },
  {
   "cell_type": "code",
   "execution_count": 14,
   "id": "d687d732",
   "metadata": {},
   "outputs": [
    {
     "name": "stdout",
     "output_type": "stream",
     "text": [
      "Train score: 1.0\n",
      "Test score: 1.0\n"
     ]
    },
    {
     "name": "stderr",
     "output_type": "stream",
     "text": [
      "/Users/colingallagher/opt/anaconda3/lib/python3.9/site-packages/sklearn/utils/validation.py:1688: FutureWarning: Feature names only support names that are all strings. Got feature names with dtypes: ['quoted_name']. An error will be raised in 1.2.\n",
      "  warnings.warn(\n",
      "/Users/colingallagher/opt/anaconda3/lib/python3.9/site-packages/sklearn/utils/validation.py:1688: FutureWarning: Feature names only support names that are all strings. Got feature names with dtypes: ['quoted_name']. An error will be raised in 1.2.\n",
      "  warnings.warn(\n",
      "/Users/colingallagher/opt/anaconda3/lib/python3.9/site-packages/sklearn/utils/validation.py:1688: FutureWarning: Feature names only support names that are all strings. Got feature names with dtypes: ['quoted_name']. An error will be raised in 1.2.\n",
      "  warnings.warn(\n",
      "/Users/colingallagher/opt/anaconda3/lib/python3.9/site-packages/sklearn/utils/validation.py:1688: FutureWarning: Feature names only support names that are all strings. Got feature names with dtypes: ['quoted_name']. An error will be raised in 1.2.\n",
      "  warnings.warn(\n"
     ]
    }
   ],
   "source": [
    "# Select new group of features\n",
    "# model 2\n",
    "X=df[['R_b','H_b','BA_RISP','H_RISP','HR_b','BB_b','BA','OBP','SLG','OPS','Pit_b','RE24_b','H_p','R_p','ER','BB_p','HR_p','ERA','Pit_p','Str_p','Ctct','StL','FB','LD','GSc','IR','IS','RE24_p','E']]\n",
    "\n",
    "# train test val split\n",
    "\n",
    "X_train, X_test, y_train, y_test = train_test_split(X, y, test_size=0.2, random_state=42)\n",
    "\n",
    "X_train, X_val, y_train, y_val = train_test_split(X_train, y_train, test_size=0.25, random_state=42)\n",
    "\n",
    "# Scaling data\n",
    "\n",
    "# creating object \n",
    "stand= StandardScaler()\n",
    "\n",
    "# fit data\n",
    "Fit= stand.fit(X_train)\n",
    "\n",
    "# transform data\n",
    "X_train_scaled = Fit.transform(X_train)\n",
    "X_test_scaled = Fit.transform(X_test)\n",
    "X_val_scaled = Fit.transform(X_val)\n",
    "\n",
    "lm1 = LogisticRegression()\n",
    "lm1.fit(X_train_scaled, y_train)\n",
    "\n",
    "train_score=lm1.score(X_train_scaled, y_train)\n",
    "test_score=lm1.score(X_test_scaled, y_test)\n",
    "\n",
    "print('Train score: '+str(train_score))\n",
    "print('Test score: '+str(test_score))"
   ]
  },
  {
   "cell_type": "code",
   "execution_count": 15,
   "id": "6cda3529",
   "metadata": {},
   "outputs": [
    {
     "name": "stdout",
     "output_type": "stream",
     "text": [
      "Train score: 1.0\n",
      "Test score: 1.0\n"
     ]
    },
    {
     "name": "stderr",
     "output_type": "stream",
     "text": [
      "/Users/colingallagher/opt/anaconda3/lib/python3.9/site-packages/sklearn/utils/validation.py:1688: FutureWarning: Feature names only support names that are all strings. Got feature names with dtypes: ['quoted_name']. An error will be raised in 1.2.\n",
      "  warnings.warn(\n",
      "/Users/colingallagher/opt/anaconda3/lib/python3.9/site-packages/sklearn/utils/validation.py:1688: FutureWarning: Feature names only support names that are all strings. Got feature names with dtypes: ['quoted_name']. An error will be raised in 1.2.\n",
      "  warnings.warn(\n",
      "/Users/colingallagher/opt/anaconda3/lib/python3.9/site-packages/sklearn/utils/validation.py:1688: FutureWarning: Feature names only support names that are all strings. Got feature names with dtypes: ['quoted_name']. An error will be raised in 1.2.\n",
      "  warnings.warn(\n",
      "/Users/colingallagher/opt/anaconda3/lib/python3.9/site-packages/sklearn/utils/validation.py:1688: FutureWarning: Feature names only support names that are all strings. Got feature names with dtypes: ['quoted_name']. An error will be raised in 1.2.\n",
      "  warnings.warn(\n"
     ]
    }
   ],
   "source": [
    "# Select new group of features\n",
    "# model 3\n",
    "X=df[['R_b','H_b','BA_RISP','H_RISP','HR_b','BB_b','BA','OBP','SLG','OPS','RE24_b','H_p','R_p','ER','BB_p','HR_p','ERA','Pit_p','Str_p','GSc','IR','IS','RE24_p','E']]\n",
    "\n",
    "# train test val split\n",
    "\n",
    "X_train, X_test, y_train, y_test = train_test_split(X, y, test_size=0.2, random_state=42)\n",
    "\n",
    "X_train, X_val, y_train, y_val = train_test_split(X_train, y_train, test_size=0.25, random_state=42)\n",
    "\n",
    "# Scaling data\n",
    "\n",
    "# creating object \n",
    "stand= StandardScaler()\n",
    "\n",
    "# fit data\n",
    "Fit= stand.fit(X_train)\n",
    "\n",
    "# transform data\n",
    "X_train_scaled = Fit.transform(X_train)\n",
    "X_test_scaled = Fit.transform(X_test)\n",
    "X_val_scaled = Fit.transform(X_val)\n",
    "\n",
    "lm1 = LogisticRegression()\n",
    "lm1.fit(X_train_scaled, y_train)\n",
    "\n",
    "train_score=lm1.score(X_train_scaled, y_train)\n",
    "test_score=lm1.score(X_test_scaled, y_test)\n",
    "\n",
    "print('Train score: '+str(train_score))\n",
    "print('Test score: '+str(test_score))"
   ]
  },
  {
   "cell_type": "code",
   "execution_count": 16,
   "id": "43957a5c",
   "metadata": {},
   "outputs": [
    {
     "name": "stdout",
     "output_type": "stream",
     "text": [
      "Train score: 1.0\n",
      "Test score: 1.0\n"
     ]
    },
    {
     "name": "stderr",
     "output_type": "stream",
     "text": [
      "/Users/colingallagher/opt/anaconda3/lib/python3.9/site-packages/sklearn/utils/validation.py:1688: FutureWarning: Feature names only support names that are all strings. Got feature names with dtypes: ['quoted_name']. An error will be raised in 1.2.\n",
      "  warnings.warn(\n",
      "/Users/colingallagher/opt/anaconda3/lib/python3.9/site-packages/sklearn/utils/validation.py:1688: FutureWarning: Feature names only support names that are all strings. Got feature names with dtypes: ['quoted_name']. An error will be raised in 1.2.\n",
      "  warnings.warn(\n",
      "/Users/colingallagher/opt/anaconda3/lib/python3.9/site-packages/sklearn/utils/validation.py:1688: FutureWarning: Feature names only support names that are all strings. Got feature names with dtypes: ['quoted_name']. An error will be raised in 1.2.\n",
      "  warnings.warn(\n",
      "/Users/colingallagher/opt/anaconda3/lib/python3.9/site-packages/sklearn/utils/validation.py:1688: FutureWarning: Feature names only support names that are all strings. Got feature names with dtypes: ['quoted_name']. An error will be raised in 1.2.\n",
      "  warnings.warn(\n"
     ]
    }
   ],
   "source": [
    "# Select new group of features\n",
    "# model 4\n",
    "X=df[['R_b','H_b','BA_RISP','H_RISP','HR_b','BB_b','BA','OBP','SLG','OPS','Pit_b','RE24_b','H_p','R_p','ER','BB_p','HR_p','ERA','Pit_p','Str_p','GSc','IR','IS','RE24_p','E']]\n",
    "\n",
    "# train test val split\n",
    "\n",
    "X_train, X_test, y_train, y_test = train_test_split(X, y, test_size=0.2, random_state=42)\n",
    "\n",
    "X_train, X_val, y_train, y_val = train_test_split(X_train, y_train, test_size=0.25, random_state=42)\n",
    "\n",
    "# Scaling data\n",
    "\n",
    "# creating object \n",
    "stand= StandardScaler()\n",
    "\n",
    "# fit data\n",
    "Fit= stand.fit(X_train)\n",
    "\n",
    "# transform data\n",
    "X_train_scaled = Fit.transform(X_train)\n",
    "X_test_scaled = Fit.transform(X_test)\n",
    "X_val_scaled = Fit.transform(X_val)\n",
    "\n",
    "lm1 = LogisticRegression()\n",
    "lm1.fit(X_train_scaled, y_train)\n",
    "\n",
    "train_score=lm1.score(X_train_scaled, y_train)\n",
    "test_score=lm1.score(X_test_scaled, y_test)\n",
    "\n",
    "print('Train score: '+str(train_score))\n",
    "print('Test score: '+str(test_score))"
   ]
  },
  {
   "cell_type": "code",
   "execution_count": 17,
   "id": "f7365451",
   "metadata": {},
   "outputs": [
    {
     "name": "stdout",
     "output_type": "stream",
     "text": [
      "Train score: 1.0\n",
      "Test score: 1.0\n"
     ]
    },
    {
     "name": "stderr",
     "output_type": "stream",
     "text": [
      "/Users/colingallagher/opt/anaconda3/lib/python3.9/site-packages/sklearn/utils/validation.py:1688: FutureWarning: Feature names only support names that are all strings. Got feature names with dtypes: ['quoted_name']. An error will be raised in 1.2.\n",
      "  warnings.warn(\n",
      "/Users/colingallagher/opt/anaconda3/lib/python3.9/site-packages/sklearn/utils/validation.py:1688: FutureWarning: Feature names only support names that are all strings. Got feature names with dtypes: ['quoted_name']. An error will be raised in 1.2.\n",
      "  warnings.warn(\n",
      "/Users/colingallagher/opt/anaconda3/lib/python3.9/site-packages/sklearn/utils/validation.py:1688: FutureWarning: Feature names only support names that are all strings. Got feature names with dtypes: ['quoted_name']. An error will be raised in 1.2.\n",
      "  warnings.warn(\n",
      "/Users/colingallagher/opt/anaconda3/lib/python3.9/site-packages/sklearn/utils/validation.py:1688: FutureWarning: Feature names only support names that are all strings. Got feature names with dtypes: ['quoted_name']. An error will be raised in 1.2.\n",
      "  warnings.warn(\n"
     ]
    }
   ],
   "source": [
    "# Select new group of features\n",
    "# model 5\n",
    "X=df[['R_b','H_b','BA_RISP','H_RISP','HR_b','BB_b','BA','OBP','SLG','OPS','Pit_b','RE24_b','H_p','BB_p','HR_p','ERA','Pit_p','Str_p','GSc','IR','IS','RE24_p','E']]\n",
    "\n",
    "# train test val split\n",
    "\n",
    "X_train, X_test, y_train, y_test = train_test_split(X, y, test_size=0.2, random_state=42)\n",
    "\n",
    "X_train, X_val, y_train, y_val = train_test_split(X_train, y_train, test_size=0.25, random_state=42)\n",
    "\n",
    "# Scaling data\n",
    "\n",
    "# creating object \n",
    "stand= StandardScaler()\n",
    "\n",
    "# fit data\n",
    "Fit= stand.fit(X_train)\n",
    "\n",
    "# transform data\n",
    "X_train_scaled = Fit.transform(X_train)\n",
    "X_test_scaled = Fit.transform(X_test)\n",
    "X_val_scaled = Fit.transform(X_val)\n",
    "\n",
    "lm1 = LogisticRegression()\n",
    "lm1.fit(X_train_scaled, y_train)\n",
    "\n",
    "train_score=lm1.score(X_train_scaled, y_train)\n",
    "test_score=lm1.score(X_test_scaled, y_test)\n",
    "\n",
    "print('Train score: '+str(train_score))\n",
    "print('Test score: '+str(test_score))"
   ]
  },
  {
   "cell_type": "code",
   "execution_count": 18,
   "id": "746968d7",
   "metadata": {},
   "outputs": [
    {
     "name": "stdout",
     "output_type": "stream",
     "text": [
      "Train score: 1.0\n",
      "Test score: 1.0\n"
     ]
    },
    {
     "name": "stderr",
     "output_type": "stream",
     "text": [
      "/Users/colingallagher/opt/anaconda3/lib/python3.9/site-packages/sklearn/utils/validation.py:1688: FutureWarning: Feature names only support names that are all strings. Got feature names with dtypes: ['quoted_name']. An error will be raised in 1.2.\n",
      "  warnings.warn(\n",
      "/Users/colingallagher/opt/anaconda3/lib/python3.9/site-packages/sklearn/utils/validation.py:1688: FutureWarning: Feature names only support names that are all strings. Got feature names with dtypes: ['quoted_name']. An error will be raised in 1.2.\n",
      "  warnings.warn(\n",
      "/Users/colingallagher/opt/anaconda3/lib/python3.9/site-packages/sklearn/utils/validation.py:1688: FutureWarning: Feature names only support names that are all strings. Got feature names with dtypes: ['quoted_name']. An error will be raised in 1.2.\n",
      "  warnings.warn(\n",
      "/Users/colingallagher/opt/anaconda3/lib/python3.9/site-packages/sklearn/utils/validation.py:1688: FutureWarning: Feature names only support names that are all strings. Got feature names with dtypes: ['quoted_name']. An error will be raised in 1.2.\n",
      "  warnings.warn(\n"
     ]
    }
   ],
   "source": [
    "# Select new group of features\n",
    "# model 6\n",
    "X=df[['R_b','BA_RISP','H_RISP','HR_b','BB_b','BA','OBP','SLG','OPS','Pit_b','RE24_b','H_p','BB_p','HR_p','ERA','Pit_p','Str_p','GSc','IR','IS','RE24_p','E']]\n",
    "\n",
    "\n",
    "# train test val split\n",
    "\n",
    "X_train, X_test, y_train, y_test = train_test_split(X, y, test_size=0.2, random_state=42)\n",
    "\n",
    "X_train, X_val, y_train, y_val = train_test_split(X_train, y_train, test_size=0.25, random_state=42)\n",
    "\n",
    "# Scaling data\n",
    "\n",
    "# creating object \n",
    "stand= StandardScaler()\n",
    "\n",
    "# fit data\n",
    "Fit= stand.fit(X_train)\n",
    "\n",
    "# transform data\n",
    "X_train_scaled = Fit.transform(X_train)\n",
    "X_test_scaled = Fit.transform(X_test)\n",
    "X_val_scaled = Fit.transform(X_val)\n",
    "\n",
    "lm1 = LogisticRegression()\n",
    "lm1.fit(X_train_scaled, y_train)\n",
    "\n",
    "train_score=lm1.score(X_train_scaled, y_train)\n",
    "test_score=lm1.score(X_test_scaled, y_test)\n",
    "\n",
    "print('Train score: '+str(train_score))\n",
    "print('Test score: '+str(test_score))"
   ]
  },
  {
   "cell_type": "code",
   "execution_count": 19,
   "id": "31e2ba68",
   "metadata": {},
   "outputs": [
    {
     "name": "stdout",
     "output_type": "stream",
     "text": [
      "Train score: 1.0\n",
      "Test score: 1.0\n"
     ]
    },
    {
     "name": "stderr",
     "output_type": "stream",
     "text": [
      "/Users/colingallagher/opt/anaconda3/lib/python3.9/site-packages/sklearn/utils/validation.py:1688: FutureWarning: Feature names only support names that are all strings. Got feature names with dtypes: ['quoted_name']. An error will be raised in 1.2.\n",
      "  warnings.warn(\n",
      "/Users/colingallagher/opt/anaconda3/lib/python3.9/site-packages/sklearn/utils/validation.py:1688: FutureWarning: Feature names only support names that are all strings. Got feature names with dtypes: ['quoted_name']. An error will be raised in 1.2.\n",
      "  warnings.warn(\n",
      "/Users/colingallagher/opt/anaconda3/lib/python3.9/site-packages/sklearn/utils/validation.py:1688: FutureWarning: Feature names only support names that are all strings. Got feature names with dtypes: ['quoted_name']. An error will be raised in 1.2.\n",
      "  warnings.warn(\n",
      "/Users/colingallagher/opt/anaconda3/lib/python3.9/site-packages/sklearn/utils/validation.py:1688: FutureWarning: Feature names only support names that are all strings. Got feature names with dtypes: ['quoted_name']. An error will be raised in 1.2.\n",
      "  warnings.warn(\n"
     ]
    }
   ],
   "source": [
    "# Select new group of features\n",
    "# model 7\n",
    "X=df[['BA_RISP','H_RISP','HR_b','RBI','BA','OBP','SLG','OPS','Pit_b','RE24_b','H_p','BB_p','HR_p','ERA','Pit_p','Str_p','GSc','IR','IS','RE24_p','E']]\n",
    "\n",
    "# train test val split\n",
    "\n",
    "X_train, X_test, y_train, y_test = train_test_split(X, y, test_size=0.2, random_state=42)\n",
    "\n",
    "X_train, X_val, y_train, y_val = train_test_split(X_train, y_train, test_size=0.25, random_state=42)\n",
    "\n",
    "# Scaling data\n",
    "\n",
    "# creating object \n",
    "stand= StandardScaler()\n",
    "\n",
    "# fit data\n",
    "Fit= stand.fit(X_train)\n",
    "\n",
    "# transform data\n",
    "X_train_scaled = Fit.transform(X_train)\n",
    "X_test_scaled = Fit.transform(X_test)\n",
    "X_val_scaled = Fit.transform(X_val)\n",
    "\n",
    "lm1 = LogisticRegression()\n",
    "lm1.fit(X_train_scaled, y_train)\n",
    "\n",
    "train_score=lm1.score(X_train_scaled, y_train)\n",
    "test_score=lm1.score(X_test_scaled, y_test)\n",
    "\n",
    "print('Train score: '+str(train_score))\n",
    "print('Test score: '+str(test_score))"
   ]
  },
  {
   "cell_type": "code",
   "execution_count": 20,
   "id": "776beb51",
   "metadata": {},
   "outputs": [
    {
     "name": "stdout",
     "output_type": "stream",
     "text": [
      "Train score: 1.0\n",
      "Test score: 1.0\n"
     ]
    },
    {
     "name": "stderr",
     "output_type": "stream",
     "text": [
      "/Users/colingallagher/opt/anaconda3/lib/python3.9/site-packages/sklearn/utils/validation.py:1688: FutureWarning: Feature names only support names that are all strings. Got feature names with dtypes: ['quoted_name']. An error will be raised in 1.2.\n",
      "  warnings.warn(\n",
      "/Users/colingallagher/opt/anaconda3/lib/python3.9/site-packages/sklearn/utils/validation.py:1688: FutureWarning: Feature names only support names that are all strings. Got feature names with dtypes: ['quoted_name']. An error will be raised in 1.2.\n",
      "  warnings.warn(\n",
      "/Users/colingallagher/opt/anaconda3/lib/python3.9/site-packages/sklearn/utils/validation.py:1688: FutureWarning: Feature names only support names that are all strings. Got feature names with dtypes: ['quoted_name']. An error will be raised in 1.2.\n",
      "  warnings.warn(\n",
      "/Users/colingallagher/opt/anaconda3/lib/python3.9/site-packages/sklearn/utils/validation.py:1688: FutureWarning: Feature names only support names that are all strings. Got feature names with dtypes: ['quoted_name']. An error will be raised in 1.2.\n",
      "  warnings.warn(\n"
     ]
    }
   ],
   "source": [
    "# Select new group of features\n",
    "# model 8\n",
    "X=df[['BA_RISP','HR_b','RBI','BA','OBP','SLG','OPS','Pit_b','RE24_b','H_p','BB_p','HR_p','ERA','Pit_p','GSc','IR','IS','RE24_p','E']]\n",
    "\n",
    "\n",
    "# train test val split\n",
    "\n",
    "X_train, X_test, y_train, y_test = train_test_split(X, y, test_size=0.2, random_state=42)\n",
    "\n",
    "X_train, X_val, y_train, y_val = train_test_split(X_train, y_train, test_size=0.25, random_state=42)\n",
    "\n",
    "# Scaling data\n",
    "\n",
    "# creating object \n",
    "stand= StandardScaler()\n",
    "\n",
    "# fit data\n",
    "Fit= stand.fit(X_train)\n",
    "\n",
    "# transform data\n",
    "X_train_scaled = Fit.transform(X_train)\n",
    "X_test_scaled = Fit.transform(X_test)\n",
    "X_val_scaled = Fit.transform(X_val)\n",
    "\n",
    "lm1 = LogisticRegression()\n",
    "lm1.fit(X_train_scaled, y_train)\n",
    "\n",
    "train_score=lm1.score(X_train_scaled, y_train)\n",
    "test_score=lm1.score(X_test_scaled, y_test)\n",
    "\n",
    "print('Train score: '+str(train_score))\n",
    "print('Test score: '+str(test_score))"
   ]
  },
  {
   "cell_type": "code",
   "execution_count": 121,
   "id": "fb1f7f9c",
   "metadata": {},
   "outputs": [
    {
     "name": "stdout",
     "output_type": "stream",
     "text": [
      "Train score: 0.789253817343705\n",
      "Test score: 0.7869490060501296\n"
     ]
    },
    {
     "name": "stderr",
     "output_type": "stream",
     "text": [
      "/Users/colingallagher/opt/anaconda3/lib/python3.9/site-packages/sklearn/utils/validation.py:1688: FutureWarning: Feature names only support names that are all strings. Got feature names with dtypes: ['quoted_name']. An error will be raised in 1.2.\n",
      "  warnings.warn(\n",
      "/Users/colingallagher/opt/anaconda3/lib/python3.9/site-packages/sklearn/utils/validation.py:1688: FutureWarning: Feature names only support names that are all strings. Got feature names with dtypes: ['quoted_name']. An error will be raised in 1.2.\n",
      "  warnings.warn(\n",
      "/Users/colingallagher/opt/anaconda3/lib/python3.9/site-packages/sklearn/utils/validation.py:1688: FutureWarning: Feature names only support names that are all strings. Got feature names with dtypes: ['quoted_name']. An error will be raised in 1.2.\n",
      "  warnings.warn(\n",
      "/Users/colingallagher/opt/anaconda3/lib/python3.9/site-packages/sklearn/utils/validation.py:1688: FutureWarning: Feature names only support names that are all strings. Got feature names with dtypes: ['quoted_name']. An error will be raised in 1.2.\n",
      "  warnings.warn(\n"
     ]
    }
   ],
   "source": [
    "# Select new group of features\n",
    "# model 9\n",
    "X=df[['BA_RISP','HR_b','RBI','BA','OBP','SLG','OPS','Pit_b','RE24_b']]\n",
    "\n",
    "# train test val split\n",
    "\n",
    "X_train, X_test, y_train, y_test = train_test_split(X, y, test_size=0.2, random_state=42)\n",
    "\n",
    "X_train, X_val, y_train, y_val = train_test_split(X_train, y_train, test_size=0.25, random_state=42)\n",
    "\n",
    "# Scaling data\n",
    "\n",
    "# creating object \n",
    "stand= StandardScaler()\n",
    "\n",
    "# fit data\n",
    "Fit= stand.fit(X_train)\n",
    "\n",
    "# transform data\n",
    "X_train_scaled = Fit.transform(X_train)\n",
    "X_test_scaled = Fit.transform(X_test)\n",
    "X_val_scaled = Fit.transform(X_val)\n",
    "\n",
    "lm1 = LogisticRegression()\n",
    "lm1.fit(X_train_scaled, y_train)\n",
    "\n",
    "train_score=lm1.score(X_train_scaled, y_train)\n",
    "test_score=lm1.score(X_test_scaled, y_test)\n",
    "\n",
    "print('Train score: '+str(train_score))\n",
    "print('Test score: '+str(test_score))"
   ]
  },
  {
   "cell_type": "code",
   "execution_count": 135,
   "id": "9fb4b217",
   "metadata": {},
   "outputs": [
    {
     "name": "stdout",
     "output_type": "stream",
     "text": [
      "Train score: 0.7963123019302795\n",
      "Test score: 0.7895419187554019\n"
     ]
    },
    {
     "name": "stderr",
     "output_type": "stream",
     "text": [
      "/Users/colingallagher/opt/anaconda3/lib/python3.9/site-packages/sklearn/utils/validation.py:1688: FutureWarning: Feature names only support names that are all strings. Got feature names with dtypes: ['quoted_name']. An error will be raised in 1.2.\n",
      "  warnings.warn(\n",
      "/Users/colingallagher/opt/anaconda3/lib/python3.9/site-packages/sklearn/utils/validation.py:1688: FutureWarning: Feature names only support names that are all strings. Got feature names with dtypes: ['quoted_name']. An error will be raised in 1.2.\n",
      "  warnings.warn(\n",
      "/Users/colingallagher/opt/anaconda3/lib/python3.9/site-packages/sklearn/utils/validation.py:1688: FutureWarning: Feature names only support names that are all strings. Got feature names with dtypes: ['quoted_name']. An error will be raised in 1.2.\n",
      "  warnings.warn(\n",
      "/Users/colingallagher/opt/anaconda3/lib/python3.9/site-packages/sklearn/utils/validation.py:1688: FutureWarning: Feature names only support names that are all strings. Got feature names with dtypes: ['quoted_name']. An error will be raised in 1.2.\n",
      "  warnings.warn(\n"
     ]
    }
   ],
   "source": [
    "# Select new group of features\n",
    "# model 10\n",
    "X=df[['H_p','BB_p','HR_p','ERA','Pit_p','GSc','IR','IS','RE24_p','E']]\n",
    "\n",
    "# train test val split\n",
    "\n",
    "X_train, X_test, y_train, y_test = train_test_split(X, y, test_size=0.2, random_state=42)\n",
    "\n",
    "X_train, X_val, y_train, y_val = train_test_split(X_train, y_train, test_size=0.25, random_state=42)\n",
    "\n",
    "# Scaling data\n",
    "\n",
    "# creating object \n",
    "stand= StandardScaler()\n",
    "\n",
    "# fit data\n",
    "Fit= stand.fit(X_train)\n",
    "\n",
    "# transform data\n",
    "X_train_scaled = Fit.transform(X_train)\n",
    "X_test_scaled = Fit.transform(X_test)\n",
    "X_val_scaled = Fit.transform(X_val)\n",
    "\n",
    "lm1 = LogisticRegression()\n",
    "lm1.fit(X_train_scaled, y_train)\n",
    "\n",
    "train_score=lm1.score(X_train_scaled, y_train)\n",
    "test_score=lm1.score(X_test_scaled, y_test)\n",
    "\n",
    "print('Train score: '+str(train_score))\n",
    "print('Test score: '+str(test_score))"
   ]
  },
  {
   "cell_type": "code",
   "execution_count": 24,
   "id": "374a7d05",
   "metadata": {},
   "outputs": [
    {
     "name": "stdout",
     "output_type": "stream",
     "text": [
      "Train score: 0.968596946125036\n",
      "Test score: 0.9645635263612792\n"
     ]
    },
    {
     "name": "stderr",
     "output_type": "stream",
     "text": [
      "/Users/colingallagher/opt/anaconda3/lib/python3.9/site-packages/sklearn/utils/validation.py:1688: FutureWarning: Feature names only support names that are all strings. Got feature names with dtypes: ['quoted_name']. An error will be raised in 1.2.\n",
      "  warnings.warn(\n",
      "/Users/colingallagher/opt/anaconda3/lib/python3.9/site-packages/sklearn/utils/validation.py:1688: FutureWarning: Feature names only support names that are all strings. Got feature names with dtypes: ['quoted_name']. An error will be raised in 1.2.\n",
      "  warnings.warn(\n",
      "/Users/colingallagher/opt/anaconda3/lib/python3.9/site-packages/sklearn/utils/validation.py:1688: FutureWarning: Feature names only support names that are all strings. Got feature names with dtypes: ['quoted_name']. An error will be raised in 1.2.\n",
      "  warnings.warn(\n",
      "/Users/colingallagher/opt/anaconda3/lib/python3.9/site-packages/sklearn/utils/validation.py:1688: FutureWarning: Feature names only support names that are all strings. Got feature names with dtypes: ['quoted_name']. An error will be raised in 1.2.\n",
      "  warnings.warn(\n"
     ]
    }
   ],
   "source": [
    "# Select new group of features\n",
    "# model 11\n",
    "X=df[['BA_RISP','HR_b','RBI','BA','OBP','SLG','OPS','Pit_b','H_p','BB_p','HR_p','ERA','Pit_p','GSc','IR','IS','E']]\n",
    "\n",
    "\n",
    "# train test val split\n",
    "\n",
    "X_train, X_test, y_train, y_test = train_test_split(X, y, test_size=0.2, random_state=42)\n",
    "\n",
    "X_train, X_val, y_train, y_val = train_test_split(X_train, y_train, test_size=0.25, random_state=42)\n",
    "\n",
    "# Scaling data\n",
    "\n",
    "# creating object \n",
    "stand= StandardScaler()\n",
    "\n",
    "# fit data\n",
    "Fit= stand.fit(X_train)\n",
    "\n",
    "# transform data\n",
    "X_train_scaled = Fit.transform(X_train)\n",
    "X_test_scaled = Fit.transform(X_test)\n",
    "X_val_scaled = Fit.transform(X_val)\n",
    "\n",
    "lm1 = LogisticRegression()\n",
    "lm1.fit(X_train_scaled, y_train)\n",
    "\n",
    "train_score=lm1.score(X_train_scaled, y_train)\n",
    "test_score=lm1.score(X_test_scaled, y_test)\n",
    "\n",
    "print('Train score: '+str(train_score))\n",
    "print('Test score: '+str(test_score))"
   ]
  },
  {
   "cell_type": "code",
   "execution_count": 149,
   "id": "64cb573e",
   "metadata": {},
   "outputs": [
    {
     "name": "stdout",
     "output_type": "stream",
     "text": [
      "[8.235668789808917, 3.140127388535032, 1.019108280254777, 143.89808917197453, 0.5732484076433121]\n",
      "0\n"
     ]
    }
   ],
   "source": [
    "# make prediction by team and year\n",
    "\n",
    "df=pd.concat(all_years)\n",
    "df=df[df.Team=='Detroit Tigers']\n",
    "df=df[df.Date>'2021-12-31']\n",
    "stat_list=[]\n",
    "for i in X.columns:\n",
    "    stat_list.append(df['%s' % i].mean())\n",
    "print(stat_list)\n",
    "stat_list=np.array(stat_list)\n",
    "stat_list=Fit.transform(stat_list.reshape(1,-1))\n",
    "y_pred=lm1.predict(stat_list)\n",
    "print(y_pred[0])"
   ]
  },
  {
   "cell_type": "code",
   "execution_count": null,
   "id": "d781d749",
   "metadata": {},
   "outputs": [],
   "source": []
  },
  {
   "cell_type": "code",
   "execution_count": null,
   "id": "f0edfb0f",
   "metadata": {},
   "outputs": [],
   "source": []
  },
  {
   "cell_type": "code",
   "execution_count": 150,
   "id": "2629f6bc",
   "metadata": {},
   "outputs": [
    {
     "name": "stdout",
     "output_type": "stream",
     "text": [
      "0.4776824915415615\n"
     ]
    }
   ],
   "source": [
    "# calculate probability\n",
    "beta_0=lm1.intercept_.tolist()[0]\n",
    "beta_x_dot=np.dot(lm1.coef_.tolist()[0],stat_list.tolist()[0])\n",
    "exponent = -(beta_0 + beta_x_dot)\n",
    "e_exponent = np.exp(exponent)\n",
    "prob = 1/(1+e_exponent)\n",
    "print(prob)"
   ]
  },
  {
   "cell_type": "code",
   "execution_count": null,
   "id": "72a9d0a9",
   "metadata": {},
   "outputs": [],
   "source": []
  },
  {
   "cell_type": "code",
   "execution_count": null,
   "id": "fb324f04",
   "metadata": {},
   "outputs": [],
   "source": []
  },
  {
   "cell_type": "code",
   "execution_count": null,
   "id": "f98dac62",
   "metadata": {},
   "outputs": [],
   "source": []
  },
  {
   "cell_type": "code",
   "execution_count": null,
   "id": "4314006c",
   "metadata": {},
   "outputs": [],
   "source": []
  },
  {
   "cell_type": "code",
   "execution_count": null,
   "id": "000b008a",
   "metadata": {},
   "outputs": [],
   "source": []
  },
  {
   "cell_type": "code",
   "execution_count": null,
   "id": "bb6b76a2",
   "metadata": {},
   "outputs": [],
   "source": []
  }
 ],
 "metadata": {
  "kernelspec": {
   "display_name": "Python 3 (classification)",
   "language": "python",
   "name": "classification"
  },
  "language_info": {
   "codemirror_mode": {
    "name": "ipython",
    "version": 3
   },
   "file_extension": ".py",
   "mimetype": "text/x-python",
   "name": "python",
   "nbconvert_exporter": "python",
   "pygments_lexer": "ipython3",
   "version": "3.9.12"
  }
 },
 "nbformat": 4,
 "nbformat_minor": 5
}
