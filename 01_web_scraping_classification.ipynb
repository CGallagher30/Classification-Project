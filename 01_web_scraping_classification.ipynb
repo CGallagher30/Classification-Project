{
 "cells": [
  {
   "cell_type": "code",
   "execution_count": 1,
   "id": "de4022c8",
   "metadata": {},
   "outputs": [],
   "source": [
    "# Web Scraping Link Gathering"
   ]
  },
  {
   "cell_type": "code",
   "execution_count": 3,
   "id": "cc5eb139",
   "metadata": {},
   "outputs": [],
   "source": [
    "# Import Packages\n",
    "import time, random\n",
    "import requests\n",
    "from bs4 import BeautifulSoup as bs"
   ]
  },
  {
   "cell_type": "code",
   "execution_count": 2,
   "id": "9501b99f",
   "metadata": {},
   "outputs": [],
   "source": [
    "# Base link\n",
    "\n",
    "url='https://www.baseball-reference.com/leagues/majors/2022-schedule.shtml'\n",
    "\n",
    "# Change out 2022 with each year of interest, then gather links from each year"
   ]
  },
  {
   "cell_type": "code",
   "execution_count": 4,
   "id": "0f2d3c37",
   "metadata": {},
   "outputs": [
    {
     "name": "stdout",
     "output_type": "stream",
     "text": [
      "200\n"
     ]
    }
   ],
   "source": [
    "# Scraping single base link\n",
    "time.sleep(1+2*random.random())\n",
    "response=requests.get(url)\n",
    "time.sleep(1+2*random.random())\n",
    "print(response.status_code)\n",
    "html=response.text\n",
    "soup=bs(html)"
   ]
  },
  {
   "cell_type": "code",
   "execution_count": 34,
   "id": "7c39e54a",
   "metadata": {},
   "outputs": [],
   "source": [
    "# Find whole tag for each individual game\n",
    "find_games=soup.find_all('p',{'class':'game'})"
   ]
  },
  {
   "cell_type": "code",
   "execution_count": 44,
   "id": "2febcef0",
   "metadata": {},
   "outputs": [
    {
     "data": {
      "text/plain": [
       "<p class=\"game\">\n",
       "<strong> <a href=\"/teams/HOU/2022.shtml\">Houston Astros</a>\n",
       " (3)</strong>\n",
       " @\n",
       "  <a href=\"/teams/LAA/2022.shtml\">Los Angeles Angels</a>\n",
       " (1)\n",
       "     <em><a href=\"/boxes/ANA/ANA202204070.shtml\">Boxscore</a></em>\n",
       "</p>"
      ]
     },
     "execution_count": 44,
     "metadata": {},
     "output_type": "execute_result"
    }
   ],
   "source": [
    "# See what each game tag would look like\n",
    "find_games[0]"
   ]
  },
  {
   "cell_type": "code",
   "execution_count": 51,
   "id": "d1ad7ced",
   "metadata": {},
   "outputs": [
    {
     "data": {
      "text/plain": [
       "'/boxes/CHN/CHN202204070.shtml'"
      ]
     },
     "execution_count": 51,
     "metadata": {},
     "output_type": "execute_result"
    }
   ],
   "source": [
    "# Find the link for the boxscore of the game\n",
    "find_games[3].find('a',text='Boxscore')['href']"
   ]
  },
  {
   "cell_type": "code",
   "execution_count": null,
   "id": "1c086a60",
   "metadata": {},
   "outputs": [],
   "source": []
  }
 ],
 "metadata": {
  "kernelspec": {
   "display_name": "Python 3 (classification)",
   "language": "python",
   "name": "classification"
  },
  "language_info": {
   "codemirror_mode": {
    "name": "ipython",
    "version": 3
   },
   "file_extension": ".py",
   "mimetype": "text/x-python",
   "name": "python",
   "nbconvert_exporter": "python",
   "pygments_lexer": "ipython3",
   "version": "3.9.12"
  }
 },
 "nbformat": 4,
 "nbformat_minor": 5
}
